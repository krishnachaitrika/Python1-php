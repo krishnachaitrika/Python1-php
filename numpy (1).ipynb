{
 "cells": [
  {
   "cell_type": "code",
   "execution_count": 1,
   "id": "6e66bb62-5bb6-48cc-9271-92df6d07df96",
   "metadata": {},
   "outputs": [],
   "source": [
    "import numpy as np"
   ]
  },
  {
   "cell_type": "code",
   "execution_count": 3,
   "id": "bb6aed05-da77-4c4b-8f87-5f600b4b7781",
   "metadata": {},
   "outputs": [
    {
     "name": "stdout",
     "output_type": "stream",
     "text": [
      "[1 2 3]\n"
     ]
    }
   ],
   "source": [
    "array = np.array([1,2,3]) \n",
    "print(array)"
   ]
  },
  {
   "cell_type": "code",
   "execution_count": 8,
   "id": "7450ffa5-1957-470c-9aab-b50de7c75543",
   "metadata": {},
   "outputs": [
    {
     "name": "stdout",
     "output_type": "stream",
     "text": [
      "[[[1 2 3]\n",
      "  [4 5 6]\n",
      "  [8 9 0]]]\n"
     ]
    }
   ],
   "source": [
    "#multi-dimentional\n",
    "array = np.array([[[1,2,3],\n",
    "                  [4,5,6],\n",
    "                  [8,9,0]]])\n",
    "print(array)"
   ]
  },
  {
   "cell_type": "code",
   "execution_count": 10,
   "id": "72a2b0a0-3acf-4ded-9ec0-c37208fedfba",
   "metadata": {},
   "outputs": [
    {
     "name": "stdout",
     "output_type": "stream",
     "text": [
      "3\n",
      "(1, 3, 3)\n",
      "2\n"
     ]
    }
   ],
   "source": [
    "print(array.ndim)\n",
    "print(array.shape)\n",
    "print(array[0,0,1])"
   ]
  },
  {
   "cell_type": "code",
   "execution_count": 13,
   "id": "7b7906bb-31e6-4ae7-bde0-5bfede960602",
   "metadata": {},
   "outputs": [
    {
     "name": "stdout",
     "output_type": "stream",
     "text": [
      "[[1 2 3]\n",
      " [4 5 6]\n",
      " [7 8 9]]\n"
     ]
    }
   ],
   "source": [
    "#slicing\n",
    "arr1 = np.array([[1,2,3],\n",
    "                 [4,5,6],\n",
    "                 [7,8,9]])\n",
    "print(arr1[0:3])"
   ]
  },
  {
   "cell_type": "code",
   "execution_count": 16,
   "id": "574d141d-f688-438f-b0e7-9f5a75a9755d",
   "metadata": {},
   "outputs": [
    {
     "name": "stdout",
     "output_type": "stream",
     "text": [
      "[[7 8 9]\n",
      " [4 5 6]\n",
      " [1 2 3]]\n",
      "[[7 8 9]\n",
      " [1 2 3]]\n"
     ]
    }
   ],
   "source": [
    "print(arr1[::-1])\n",
    "print(arr1[::-2])"
   ]
  },
  {
   "cell_type": "code",
   "execution_count": 19,
   "id": "7a81bccc-2f1d-4ce0-a50f-5b0cef7aadca",
   "metadata": {},
   "outputs": [
    {
     "name": "stdout",
     "output_type": "stream",
     "text": [
      "[[1 2]\n",
      " [4 5]\n",
      " [7 8]]\n",
      "[[3 2 1]\n",
      " [6 5 4]\n",
      " [9 8 7]]\n"
     ]
    }
   ],
   "source": [
    "#column\n",
    "print(arr1[:,0:2])\n",
    "print(arr1[:,::-1])"
   ]
  },
  {
   "cell_type": "code",
   "execution_count": 18,
   "id": "1c538c83-313a-46e2-a1d3-f470e5ef5870",
   "metadata": {},
   "outputs": [
    {
     "name": "stdout",
     "output_type": "stream",
     "text": [
      "[[1 2]\n",
      " [4 5]]\n"
     ]
    }
   ],
   "source": [
    "print(arr1[0:2,0:2])"
   ]
  },
  {
   "cell_type": "code",
   "execution_count": 20,
   "id": "6c7b3421-66f4-4c51-9c1d-8aa5c5e103fc",
   "metadata": {},
   "outputs": [
    {
     "name": "stdout",
     "output_type": "stream",
     "text": [
      "[2 3 4]\n",
      "[-1  0  1]\n",
      "[3 6 9]\n",
      "[0.25 0.5  0.75]\n",
      "[1 4 9]\n"
     ]
    }
   ],
   "source": [
    "#scalar arithemetic\n",
    "arr2 = np.array([1,2,3])\n",
    "print(arr2 +1)\n",
    "print(arr2 -2)\n",
    "print(arr2 *3)\n",
    "print(arr2 /4)\n",
    "print(arr2 ** 2)"
   ]
  },
  {
   "cell_type": "code",
   "execution_count": 24,
   "id": "cb379c9a-2012-4497-a748-f02f9da0ba9f",
   "metadata": {},
   "outputs": [
    {
     "name": "stdout",
     "output_type": "stream",
     "text": [
      "[1.00995049 0.58309519 2.86879766]\n",
      "[1. 0. 8.]\n"
     ]
    }
   ],
   "source": [
    "#vectorized math func\n",
    "arr3 = np.array([1.02,0.34,8.23])\n",
    "print(np.sqrt(arr3))\n",
    "print(np.round(arr3))"
   ]
  },
  {
   "cell_type": "code",
   "execution_count": 25,
   "id": "73c5f764-7a4f-49d0-af37-b4277adce2ec",
   "metadata": {},
   "outputs": [
    {
     "name": "stdout",
     "output_type": "stream",
     "text": [
      "[ 3.14159265 12.56637061 28.27433388]\n"
     ]
    }
   ],
   "source": [
    "#cal area\n",
    "arr4 = np.array([1,2,3])\n",
    "print(np.pi*arr4**2)"
   ]
  },
  {
   "cell_type": "code",
   "execution_count": 27,
   "id": "d65bda43-f549-4855-975d-62932383285a",
   "metadata": {},
   "outputs": [
    {
     "name": "stdout",
     "output_type": "stream",
     "text": [
      "[5 7 9]\n",
      "[-3 -3 -3]\n",
      "[ 4 10 18]\n",
      "[0.25 0.4  0.5 ]\n"
     ]
    }
   ],
   "source": [
    "arr4 = np.array([1,2,3])\n",
    "arr5 = np.array([4,5,6])\n",
    "print(arr4+arr5)\n",
    "print(arr4-arr5)\n",
    "print(arr4*arr5)\n",
    "print(arr4/arr5)"
   ]
  },
  {
   "cell_type": "code",
   "execution_count": 35,
   "id": "5b939f35-3366-40bc-b3e3-8aa9d0a4d4c5",
   "metadata": {},
   "outputs": [
    {
     "name": "stdout",
     "output_type": "stream",
     "text": [
      "[False False False False False  True]\n",
      "[False  True  True False  True False]\n"
     ]
    }
   ],
   "source": [
    "#comparsion operators\n",
    "arr6 = np.array([91,55,66,77,33,90])\n",
    "print(arr6 == 90)\n",
    "print(arr6 < 70)"
   ]
  },
  {
   "cell_type": "code",
   "execution_count": 34,
   "id": "c42e9fc4-afdb-4a84-9296-61b921d71823",
   "metadata": {},
   "outputs": [
    {
     "name": "stdout",
     "output_type": "stream",
     "text": [
      "[91  0  0  0  0 90]\n"
     ]
    }
   ],
   "source": [
    "arr6[arr6 < 90] = 0\n",
    "print(arr6)"
   ]
  },
  {
   "cell_type": "code",
   "execution_count": 40,
   "id": "973dc246-1179-4cb9-9a41-88eafec400d1",
   "metadata": {},
   "outputs": [
    {
     "name": "stdout",
     "output_type": "stream",
     "text": [
      "(1, 4)\n",
      "(4, 1)\n",
      "[[ 1  2  3  4]\n",
      " [ 2  4  6  8]\n",
      " [ 3  6  9 12]\n",
      " [ 4  8 12 16]]\n"
     ]
    }
   ],
   "source": [
    "#boardcasting\n",
    "arr0= np.array([[1,2,3,4]])\n",
    "arr7 = np.array([[1],[2],[3],[4]])\n",
    "#here their is atleast one in dimn\n",
    "print(arr0.shape)\n",
    "print(arr7.shape)\n",
    "print(arr0*arr7)"
   ]
  },
  {
   "cell_type": "code",
   "execution_count": 41,
   "id": "736a1d4c-14a0-4bb1-8192-f4ea5fe91888",
   "metadata": {},
   "outputs": [
    {
     "name": "stdout",
     "output_type": "stream",
     "text": [
      "(1, 10)\n",
      "(10, 1)\n",
      "[[  1   2   3   4   5   6   7   8   9  10]\n",
      " [  2   4   6   8  10  12  14  16  18  20]\n",
      " [  3   6   9  12  15  18  21  24  27  30]\n",
      " [  4   8  12  16  20  24  28  32  36  40]\n",
      " [  5  10  15  20  25  30  35  40  45  50]\n",
      " [  6  12  18  24  30  36  42  48  54  60]\n",
      " [  7  14  21  28  35  42  49  56  63  70]\n",
      " [  8  16  24  32  40  48  56  64  72  80]\n",
      " [  9  18  27  36  45  54  63  72  81  90]\n",
      " [ 10  20  30  40  50  60  70  80  90 100]]\n"
     ]
    }
   ],
   "source": [
    "#multiplication table\n",
    "arr0= np.array([[1,2,3,4,5,6,7,8,9,10]])\n",
    "arr7 = np.array([[1],[2],[3],[4],[5],[6],[7],[8],[9],[10]])\n",
    "print(arr0.shape)\n",
    "print(arr7.shape)\n",
    "print(arr0*arr7)"
   ]
  },
  {
   "cell_type": "code",
   "execution_count": 43,
   "id": "513466d7-4e49-432e-b7a7-b574744c49b4",
   "metadata": {},
   "outputs": [
    {
     "name": "stdout",
     "output_type": "stream",
     "text": [
      "(1, 10)\n",
      "(1, 1)\n",
      "[[ 5 10 15 20 25 30 35 40 45 50]]\n"
     ]
    }
   ],
   "source": [
    "#single multiplication table\n",
    "arr0= np.array([[1,2,3,4,5,6,7,8,9,10]])\n",
    "arr7 = np.array([[5]])\n",
    "print(arr0.shape)\n",
    "print(arr7.shape)\n",
    "print(arr0*arr7)"
   ]
  },
  {
   "cell_type": "code",
   "execution_count": 51,
   "id": "b880efa3-6465-4d5f-8474-48f35fbf66b1",
   "metadata": {},
   "outputs": [
    {
     "name": "stdout",
     "output_type": "stream",
     "text": [
      "1\n",
      "5.5\n",
      "10\n",
      "55\n",
      "2.8722813232690143\n",
      "0\n"
     ]
    }
   ],
   "source": [
    "#aggergate function\n",
    "arr8= np.array([[1,2,3,4,5,6,7,8,9,10]])\n",
    "print(np.min(arr8))\n",
    "print(np.mean(arr8))\n",
    "print(np.max(arr8))\n",
    "print(np.sum(arr8))\n",
    "print(np.std(arr8))\n",
    "#position of min value\n",
    "print(np.argmin(arr8))"
   ]
  },
  {
   "cell_type": "code",
   "execution_count": 54,
   "id": "dd1c482b-06a7-4db5-87bb-1ee35244432a",
   "metadata": {},
   "outputs": [
    {
     "name": "stdout",
     "output_type": "stream",
     "text": [
      "[ 6  8 10 12]\n",
      "[10 26]\n"
     ]
    }
   ],
   "source": [
    "arr9= np.array([[1,2,3,4],\n",
    "                [5,6,7,8]])\n",
    "#this is used for sum of column\n",
    "print(np.sum(arr9,axis =0))\n",
    "#this is to sum rows \n",
    "print(np.sum(arr9,axis =1))"
   ]
  },
  {
   "cell_type": "code",
   "execution_count": 66,
   "id": "a772bf86-dbf4-49a5-be91-d7190941f628",
   "metadata": {},
   "outputs": [
    {
     "name": "stdout",
     "output_type": "stream",
     "text": [
      "[13 14 12]\n",
      "[18 21 18 40 39 22 34 56]\n",
      "[70]\n",
      "[18 14 18 40 22 34 56 12 70]\n"
     ]
    }
   ],
   "source": [
    "#filtering\n",
    "ages = np.array([[18,21,13,14,18,40],\n",
    "                [39,22,34,56,12,70]])\n",
    "teens = ages[ages<18]\n",
    "adults = ages[(ages>=18) & (ages<=65)]\n",
    "senior = ages[ages>=65]\n",
    "even = ages[ages%2==0]\n",
    "print(teens)\n",
    "print(adults)\n",
    "print(senior)\n",
    "print(even)"
   ]
  },
  {
   "cell_type": "code",
   "execution_count": 68,
   "id": "0459e163-0a48-4028-b6bf-7b48fc00fe0f",
   "metadata": {},
   "outputs": [
    {
     "name": "stdout",
     "output_type": "stream",
     "text": [
      "[[18 21  0  0 18 40]\n",
      " [39 22 34 56  0 70]]\n"
     ]
    }
   ],
   "source": [
    "#to preserve the shape\n",
    "a = np.where(ages>=18,ages,0)\n",
    "print(a)"
   ]
  },
  {
   "cell_type": "code",
   "execution_count": 73,
   "id": "d5121828-54da-4994-825f-b71f43fd4b6d",
   "metadata": {},
   "outputs": [
    {
     "name": "stdout",
     "output_type": "stream",
     "text": [
      "[2 3 4 2]\n",
      "[[3 6]\n",
      " [1 1]\n",
      " [2 2]\n",
      " [3 1]]\n"
     ]
    }
   ],
   "source": [
    "#random numbers\n",
    "rng = np.random.default_rng()\n",
    "#they r storedin 1D\n",
    "print(rng.integers(low=1,high=7,size =4))\n",
    "#they r storedin 2D\n",
    "print(rng.integers(low=1,high=7,size =(4,2)))"
   ]
  },
  {
   "cell_type": "code",
   "execution_count": 84,
   "id": "44246a1a-f46a-449a-931a-f8d3d9512dae",
   "metadata": {},
   "outputs": [
    {
     "ename": "NameError",
     "evalue": "name 'size' is not defined",
     "output_type": "error",
     "traceback": [
      "\u001b[1;31m---------------------------------------------------------------------------\u001b[0m",
      "\u001b[1;31mNameError\u001b[0m                                 Traceback (most recent call last)",
      "Cell \u001b[1;32mIn[84], line 4\u001b[0m\n\u001b[0;32m      2\u001b[0m arr \u001b[38;5;241m=\u001b[39m np\u001b[38;5;241m.\u001b[39marray([\u001b[38;5;241m1\u001b[39m,\u001b[38;5;241m2\u001b[39m,\u001b[38;5;241m3\u001b[39m,\u001b[38;5;241m4\u001b[39m])\n\u001b[0;32m      3\u001b[0m rng\u001b[38;5;241m.\u001b[39mshuffle(arr)\n\u001b[1;32m----> 4\u001b[0m b \u001b[38;5;241m=\u001b[39m rng\u001b[38;5;241m.\u001b[39mchoice(arr,size \u001b[38;5;241m-\u001b[39m\u001b[38;5;241m3\u001b[39m)\n\u001b[0;32m      5\u001b[0m \u001b[38;5;28mprint\u001b[39m(arr)\n\u001b[0;32m      6\u001b[0m \u001b[38;5;28mprint\u001b[39m(b)\n",
      "\u001b[1;31mNameError\u001b[0m: name 'size' is not defined"
     ]
    }
   ],
   "source": [
    "rng = np.random.default_rng()\n",
    "arr = np.array([1,2,3,4])\n",
    "rng.shuffle(arr)\n",
    "b = rng.choice(arr,size -3)\n",
    "print(arr)\n",
    "print(b)"
   ]
  },
  {
   "cell_type": "code",
   "execution_count": null,
   "id": "3571bbe7-fd99-4930-9d19-55a8bb4edfdf",
   "metadata": {},
   "outputs": [],
   "source": []
  },
  {
   "cell_type": "code",
   "execution_count": null,
   "id": "8e07848b-cb58-4a1b-b160-1cd5011b2314",
   "metadata": {},
   "outputs": [],
   "source": []
  }
 ],
 "metadata": {
  "kernelspec": {
   "display_name": "Python 3 (ipykernel)",
   "language": "python",
   "name": "python3"
  },
  "language_info": {
   "codemirror_mode": {
    "name": "ipython",
    "version": 3
   },
   "file_extension": ".py",
   "mimetype": "text/x-python",
   "name": "python",
   "nbconvert_exporter": "python",
   "pygments_lexer": "ipython3",
   "version": "3.12.7"
  }
 },
 "nbformat": 4,
 "nbformat_minor": 5
}
