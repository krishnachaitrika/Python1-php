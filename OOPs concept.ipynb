{
 "cells": [
  {
   "cell_type": "code",
   "execution_count": 2,
   "id": "42c8d38a-93f1-47d7-a291-20b79f02ba73",
   "metadata": {},
   "outputs": [
    {
     "name": "stdout",
     "output_type": "stream",
     "text": [
      "chaitrika\n"
     ]
    }
   ],
   "source": [
    "#this is the basic class creation and object\n",
    "class Student:\n",
    "    name = \"chaitrika\"\n",
    "\n",
    "s1 = Student()\n",
    "print(s1.name)"
   ]
  },
  {
   "cell_type": "code",
   "execution_count": 16,
   "id": "3cc7fc87-210b-495d-bf47-4ab113fda6d8",
   "metadata": {},
   "outputs": [
    {
     "name": "stdout",
     "output_type": "stream",
     "text": [
      "add new student\n",
      "chaitrika 88\n"
     ]
    }
   ],
   "source": [
    "#contructor\n",
    "class Student:\n",
    "    def __init__(self,name,marks):\n",
    "        self.name = name\n",
    "        self.marks = marks\n",
    "        print(\"add new student\")\n",
    "\n",
    "s1 = Student(\"chaitrika\",88)\n",
    "print(s1.name,s1.marks)"
   ]
  },
  {
   "cell_type": "code",
   "execution_count": 18,
   "id": "47bc55a0-d45d-41f0-bee2-3da38bc542a0",
   "metadata": {},
   "outputs": [
    {
     "name": "stdout",
     "output_type": "stream",
     "text": [
      "add new student\n",
      "chaitrika 88\n",
      "MallaReddy University\n"
     ]
    }
   ],
   "source": [
    "#Attributes\n",
    "class Student:\n",
    "    #this is can used multiple times but is stored only once\n",
    "    college_name = \"MallaReddy University\"\n",
    "    def __init__(self,name,marks):\n",
    "        self.name = name#this are used to store 10 different\n",
    "        self.marks = marks\n",
    "        print(\"add new student\")\n",
    "\n",
    "s1 = Student(\"chaitrika\",88)\n",
    "print(s1.name,s1.marks)\n",
    "print(Student.college_name)"
   ]
  },
  {
   "cell_type": "code",
   "execution_count": 19,
   "id": "b8f72d70-d20d-4613-a99f-17120c6d0609",
   "metadata": {},
   "outputs": [
    {
     "name": "stdout",
     "output_type": "stream",
     "text": [
      "add new student\n",
      "chaitrika 88\n",
      "hello chaitrika\n"
     ]
    }
   ],
   "source": [
    "#method\n",
    "class Student:\n",
    "    def __init__(self,name,marks):\n",
    "        self.name = name\n",
    "        self.marks = marks\n",
    "        print(\"add new student\")\n",
    "    def Welcome(self):\n",
    "        print(\"hello\",self.name) \n",
    "\n",
    "s1 = Student(\"chaitrika\",88)\n",
    "print(s1.name,s1.marks)\n",
    "s1.Welcome()"
   ]
  },
  {
   "cell_type": "code",
   "execution_count": 29,
   "id": "dede6368-0ca4-420d-aee9-b881241a5811",
   "metadata": {},
   "outputs": [
    {
     "name": "stdout",
     "output_type": "stream",
     "text": [
      "85.33333333333333\n"
     ]
    }
   ],
   "source": [
    "class Student:\n",
    "    def __init__(self,name,mar1,mar2,mar3):\n",
    "        self.name = name\n",
    "        self.mar1=mar1\n",
    "        self.mar2=mar2\n",
    "        self.mar3=mar3\n",
    "    def avg(self):\n",
    "        return((self.mar1+self.mar2+self.mar3)/3)\n",
    "\n",
    "s1 = Student(\"chaitrika\",88,78,90)\n",
    "print(s1.avg())"
   ]
  },
  {
   "cell_type": "code",
   "execution_count": 30,
   "id": "3fd800ef-5fcc-4564-a1c4-e947d4f815bb",
   "metadata": {},
   "outputs": [
    {
     "name": "stdout",
     "output_type": "stream",
     "text": [
      "chaitrika you scored this 85.33333333333333\n"
     ]
    }
   ],
   "source": [
    "class Student:\n",
    "    def __init__(self,name,mar):\n",
    "        self.name = name\n",
    "        self.mar=mar\n",
    "    def avg(self):\n",
    "        sum =0\n",
    "        for i in self.mar:\n",
    "            sum+=i\n",
    "        print(self.name,\"you scored this\",sum/3)\n",
    "s1 = Student(\"chaitrika\",[88,78,90])\n",
    "s1.avg()"
   ]
  },
  {
   "cell_type": "code",
   "execution_count": 3,
   "id": "40bb2a6f-6e43-4378-af2c-ed78e306e886",
   "metadata": {},
   "outputs": [
    {
     "name": "stdout",
     "output_type": "stream",
     "text": [
      "debited amount 2000 this is the remaining bal 8000\n",
      "Credited amount 8000 this is the remaining bal 16000\n"
     ]
    },
    {
     "ename": "NameError",
     "evalue": "name 'acc1' is not defined",
     "output_type": "error",
     "traceback": [
      "\u001b[1;31m---------------------------------------------------------------------------\u001b[0m",
      "\u001b[1;31mNameError\u001b[0m                                 Traceback (most recent call last)",
      "Cell \u001b[1;32mIn[3], line 17\u001b[0m\n\u001b[0;32m     15\u001b[0m \u001b[38;5;66;03m#deleted the object\u001b[39;00m\n\u001b[0;32m     16\u001b[0m \u001b[38;5;28;01mdel\u001b[39;00m acc1\n\u001b[1;32m---> 17\u001b[0m \u001b[38;5;28mprint\u001b[39m(acc1\u001b[38;5;241m.\u001b[39mbal)\n",
      "\u001b[1;31mNameError\u001b[0m: name 'acc1' is not defined"
     ]
    }
   ],
   "source": [
    "class Bank:\n",
    "    def __init__(self,acc,bal):\n",
    "        self.acc = acc\n",
    "        self.bal=bal\n",
    "    def debit(self,amount):\n",
    "        self.bal -= amount\n",
    "        print(\"debited amount\",amount,\"this is the remaining bal\",self.bal)\n",
    "    def credit(self,amount):\n",
    "        self.bal += amount\n",
    "        print(\"Credited amount\",amount,\"this is the remaining bal\",self.bal)\n",
    "\n",
    "acc1 = Bank(\"ICIC2345678\",10000)\n",
    "acc1.debit(2000)\n",
    "acc1.credit(8000)\n",
    "#deleted the object\n",
    "del acc1\n",
    "print(acc1.bal)"
   ]
  },
  {
   "cell_type": "code",
   "execution_count": 6,
   "id": "abca43b9-86bb-4528-9d9e-57d55567dcc9",
   "metadata": {},
   "outputs": [
    {
     "name": "stdout",
     "output_type": "stream",
     "text": [
      "chaitrika you scored this 85.33333333333333\n"
     ]
    }
   ],
   "source": [
    "#private method\n",
    "class Student:\n",
    "    def __init__(self,name,mar):\n",
    "        #here i make it private(__)\n",
    "        self.__name = name\n",
    "        self.mar=mar\n",
    "    def avg(self):\n",
    "        sum =0\n",
    "        for i in self.mar:\n",
    "            sum+=i\n",
    "            #this is called again because it is called in another methis of same calss\n",
    "        print(self.__name,\"you scored this\",sum/3)\n",
    "s1 = Student(\"chaitrika\",[88,78,90])\n",
    "s1.avg()"
   ]
  },
  {
   "cell_type": "code",
   "execution_count": 22,
   "id": "6a024e39-82f9-4e57-a1e2-b3ad869ad9e4",
   "metadata": {},
   "outputs": [
    {
     "name": "stdout",
     "output_type": "stream",
     "text": [
      "car started...\n",
      "None\n",
      "car started...\n"
     ]
    }
   ],
   "source": [
    "#inheritance\n",
    "class Car:\n",
    "    @staticmethod\n",
    "    def start():\n",
    "        print(\"car started...\")\n",
    "    @staticmethod\n",
    "    def stop():\n",
    "        print(\"car stoped...\")\n",
    "\n",
    "class ToyotaCar(Car):\n",
    "    def __init__(self,name):\n",
    "        self.name = name\n",
    "\n",
    "class Fortuner(ToyotaCar):\n",
    "    def __init__(self,type):\n",
    "        self.type=type\n",
    "\n",
    "c1 = ToyotaCar(\"heyyy chai\")\n",
    "#inherited\n",
    "print(c1.start())\n",
    "#multi-level inheritance\n",
    "c2 = Fortuner(\"Diesel\")\n",
    "c2.start()"
   ]
  },
  {
   "cell_type": "code",
   "execution_count": 29,
   "id": "b051f562-1124-4a77-a093-aa8f96c2b0d2",
   "metadata": {},
   "outputs": [
    {
     "name": "stdout",
     "output_type": "stream",
     "text": [
      "welcome to class A\n",
      "Welcome to class B\n",
      "Welcome to class C\n"
     ]
    }
   ],
   "source": [
    "#multiple inheritance\n",
    "class A:\n",
    "    varA=\"welcome to class A\"\n",
    "\n",
    "class B:\n",
    "    varB = \"Welcome to class B\"\n",
    "\n",
    "class C(A,B):\n",
    "    varC= \"Welcome to class C\"\n",
    "\n",
    "c1 = C()\n",
    "print(C.varA)\n",
    "print(C.varB)\n",
    "print(C.varC)"
   ]
  },
  {
   "cell_type": "code",
   "execution_count": 43,
   "id": "7439d776-d2b1-49d1-864a-63b4cc009d73",
   "metadata": {},
   "outputs": [
    {
     "name": "stdout",
     "output_type": "stream",
     "text": [
      "petrol\n"
     ]
    }
   ],
   "source": [
    "#super method\n",
    "class Car:\n",
    "    @staticmethod\n",
    "    def start():\n",
    "        print(\"car started...\")\n",
    "    @staticmethod\n",
    "    def stop():\n",
    "        print(\"car stoped...\")\n",
    "\n",
    "    def __init__(self,type):\n",
    "         self.type = type\n",
    "class ToyotaCar(Car):\n",
    "    def __init__(self,name,type):\n",
    "        self.name = name\n",
    "        super().__init__(type)\n",
    "\n",
    "c1 = ToyotaCar(\"prius\",\"petrol\")\n",
    "print(c1.type)"
   ]
  },
  {
   "cell_type": "code",
   "execution_count": 49,
   "id": "23e1ba4f-7c9d-43ef-986f-5af61f0cf63d",
   "metadata": {},
   "outputs": [
    {
     "name": "stdout",
     "output_type": "stream",
     "text": [
      "34\n"
     ]
    }
   ],
   "source": [
    "#class method\n",
    "class Person:\n",
    "    age = 21\n",
    "    @classmethod\n",
    "    def ages(cls,age):\n",
    "        cls.age = age\n",
    "\n",
    "a1 = Person()\n",
    "a1.ages(34)\n",
    "print(Person.age) "
   ]
  },
  {
   "cell_type": "code",
   "execution_count": 56,
   "id": "f113cebe-9cb5-4a7e-820a-08a744e1ab5e",
   "metadata": {},
   "outputs": [
    {
     "name": "stdout",
     "output_type": "stream",
     "text": [
      "84.33333333333333\n",
      "67.0\n"
     ]
    }
   ],
   "source": [
    "#property Decorator\n",
    "class Marks:\n",
    "    def __init__(self,math,phy,chem):\n",
    "        self.math = math\n",
    "        self.chem = chem\n",
    "        self.phy = phy\n",
    "    @property\n",
    "    def percentage(self):\n",
    "        return ((self.math+self.phy+self.chem)/3)\n",
    "\n",
    "m1 = Marks(89,86,78)\n",
    "print(m1.percentage)\n",
    "m1.phy=34\n",
    "#changed it self\n",
    "print(m1.percentage)"
   ]
  },
  {
   "cell_type": "code",
   "execution_count": 63,
   "id": "924c10c3-1b51-4cca-814c-3518bb4e4e13",
   "metadata": {},
   "outputs": [
    {
     "name": "stdout",
     "output_type": "stream",
     "text": [
      "1 i + 2 j \n",
      "4 i + 5 j \n",
      "5 i + 7 j \n"
     ]
    }
   ],
   "source": [
    "#ploymorphism\n",
    "class Complex:\n",
    "    def __init__(self,real,img):\n",
    "        self.real = real\n",
    "        self.img=img\n",
    "    def printing(self):\n",
    "        print(self.real,\"i +\",self.img,\"j \")\n",
    "    def __add__(self,num2):\n",
    "        a = self.real+ num2.real\n",
    "        b = self.img + num2.img\n",
    "        return Complex(a,b)\n",
    "\n",
    "num1 = Complex(1,2)\n",
    "num1.printing()\n",
    "num2 = Complex(4,5)\n",
    "num2.printing()\n",
    "num3 = num1+num2 \n",
    "num3.printing()"
   ]
  },
  {
   "cell_type": "code",
   "execution_count": null,
   "id": "9988ec65-a134-4596-a26d-13623266d482",
   "metadata": {},
   "outputs": [],
   "source": []
  }
 ],
 "metadata": {
  "kernelspec": {
   "display_name": "Python 3 (ipykernel)",
   "language": "python",
   "name": "python3"
  },
  "language_info": {
   "codemirror_mode": {
    "name": "ipython",
    "version": 3
   },
   "file_extension": ".py",
   "mimetype": "text/x-python",
   "name": "python",
   "nbconvert_exporter": "python",
   "pygments_lexer": "ipython3",
   "version": "3.12.7"
  }
 },
 "nbformat": 4,
 "nbformat_minor": 5
}
